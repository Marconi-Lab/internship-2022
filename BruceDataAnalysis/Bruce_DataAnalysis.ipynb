{
 "cells": [
  {
   "cell_type": "markdown",
   "id": "83409f6d",
   "metadata": {},
   "source": [
    "### Importing Libraries\n",
    "<a id='setup'></a>"
   ]
  },
  {
   "cell_type": "code",
   "execution_count": 1,
   "id": "6078140a",
   "metadata": {},
   "outputs": [],
   "source": [
    "# import packages to use\n",
    "import numpy as np\n",
    "import pandas as pd\n",
    "import seaborn as sns\n",
    "import matplotlib.pyplot as plt\n",
    "\n",
    "import warnings\n",
    "warnings.filterwarnings('ignore')\n",
    "\n",
    "%matplotlib inline"
   ]
  },
  {
   "cell_type": "markdown",
   "id": "67554452",
   "metadata": {},
   "source": [
    "#### Data Wrangling"
   ]
  },
  {
   "cell_type": "code",
   "execution_count": 6,
   "id": "eacf001f",
   "metadata": {},
   "outputs": [],
   "source": [
    "df = pd.read_csv('202110-baywheels-tripdata.csv')"
   ]
  },
  {
   "cell_type": "code",
   "execution_count": 7,
   "id": "cad42b99",
   "metadata": {},
   "outputs": [
    {
     "data": {
      "text/html": [
       "<div>\n",
       "<style scoped>\n",
       "    .dataframe tbody tr th:only-of-type {\n",
       "        vertical-align: middle;\n",
       "    }\n",
       "\n",
       "    .dataframe tbody tr th {\n",
       "        vertical-align: top;\n",
       "    }\n",
       "\n",
       "    .dataframe thead th {\n",
       "        text-align: right;\n",
       "    }\n",
       "</style>\n",
       "<table border=\"1\" class=\"dataframe\">\n",
       "  <thead>\n",
       "    <tr style=\"text-align: right;\">\n",
       "      <th></th>\n",
       "      <th>ride_id</th>\n",
       "      <th>rideable_type</th>\n",
       "      <th>started_at</th>\n",
       "      <th>ended_at</th>\n",
       "      <th>start_station_name</th>\n",
       "      <th>start_station_id</th>\n",
       "      <th>end_station_name</th>\n",
       "      <th>end_station_id</th>\n",
       "      <th>start_lat</th>\n",
       "      <th>start_lng</th>\n",
       "      <th>end_lat</th>\n",
       "      <th>end_lng</th>\n",
       "      <th>member_casual</th>\n",
       "    </tr>\n",
       "  </thead>\n",
       "  <tbody>\n",
       "    <tr>\n",
       "      <th>0</th>\n",
       "      <td>7D43255A9D6F4DBA</td>\n",
       "      <td>classic_bike</td>\n",
       "      <td>2021-10-20 13:27:56</td>\n",
       "      <td>2021-10-20 13:34:37</td>\n",
       "      <td>San Fernando St at 4th St</td>\n",
       "      <td>SJ-M10-2</td>\n",
       "      <td>2nd St at Julian St</td>\n",
       "      <td>SJ-K10</td>\n",
       "      <td>37.335885</td>\n",
       "      <td>-121.885660</td>\n",
       "      <td>37.341132</td>\n",
       "      <td>-121.892844</td>\n",
       "      <td>member</td>\n",
       "    </tr>\n",
       "    <tr>\n",
       "      <th>1</th>\n",
       "      <td>286294003C3DFEA6</td>\n",
       "      <td>electric_bike</td>\n",
       "      <td>2021-10-15 13:16:01</td>\n",
       "      <td>2021-10-15 13:17:33</td>\n",
       "      <td>Jersey St at Castro St</td>\n",
       "      <td>SF-R19</td>\n",
       "      <td>Jersey St at Church St</td>\n",
       "      <td>SF-R20</td>\n",
       "      <td>37.750494</td>\n",
       "      <td>-122.433891</td>\n",
       "      <td>37.750882</td>\n",
       "      <td>-122.427622</td>\n",
       "      <td>member</td>\n",
       "    </tr>\n",
       "    <tr>\n",
       "      <th>2</th>\n",
       "      <td>5405832D8BD4D8E9</td>\n",
       "      <td>classic_bike</td>\n",
       "      <td>2021-10-13 12:12:46</td>\n",
       "      <td>2021-10-13 12:21:22</td>\n",
       "      <td>The Embarcadero at Sansome St</td>\n",
       "      <td>SF-A27</td>\n",
       "      <td>Montgomery St BART Station (Market St at 2nd St)</td>\n",
       "      <td>SF-F28-2</td>\n",
       "      <td>37.804770</td>\n",
       "      <td>-122.403234</td>\n",
       "      <td>37.789620</td>\n",
       "      <td>-122.400808</td>\n",
       "      <td>member</td>\n",
       "    </tr>\n",
       "    <tr>\n",
       "      <th>3</th>\n",
       "      <td>2DE9700FA73E296A</td>\n",
       "      <td>classic_bike</td>\n",
       "      <td>2021-10-13 17:45:55</td>\n",
       "      <td>2021-10-13 18:02:31</td>\n",
       "      <td>Valencia St at 21st St</td>\n",
       "      <td>SF-P22</td>\n",
       "      <td>Folsom St at 5th St</td>\n",
       "      <td>SF-I27</td>\n",
       "      <td>37.756708</td>\n",
       "      <td>-122.421025</td>\n",
       "      <td>37.780738</td>\n",
       "      <td>-122.402728</td>\n",
       "      <td>member</td>\n",
       "    </tr>\n",
       "    <tr>\n",
       "      <th>4</th>\n",
       "      <td>DBA7CB5E699A0141</td>\n",
       "      <td>classic_bike</td>\n",
       "      <td>2021-10-18 15:09:26</td>\n",
       "      <td>2021-10-18 15:43:16</td>\n",
       "      <td>Russell St at College Ave</td>\n",
       "      <td>BK-H10</td>\n",
       "      <td>Telegraph Ave at Carleton St</td>\n",
       "      <td>BK-F9</td>\n",
       "      <td>37.858473</td>\n",
       "      <td>-122.253253</td>\n",
       "      <td>37.862320</td>\n",
       "      <td>-122.258801</td>\n",
       "      <td>casual</td>\n",
       "    </tr>\n",
       "  </tbody>\n",
       "</table>\n",
       "</div>"
      ],
      "text/plain": [
       "            ride_id  rideable_type           started_at             ended_at  \\\n",
       "0  7D43255A9D6F4DBA   classic_bike  2021-10-20 13:27:56  2021-10-20 13:34:37   \n",
       "1  286294003C3DFEA6  electric_bike  2021-10-15 13:16:01  2021-10-15 13:17:33   \n",
       "2  5405832D8BD4D8E9   classic_bike  2021-10-13 12:12:46  2021-10-13 12:21:22   \n",
       "3  2DE9700FA73E296A   classic_bike  2021-10-13 17:45:55  2021-10-13 18:02:31   \n",
       "4  DBA7CB5E699A0141   classic_bike  2021-10-18 15:09:26  2021-10-18 15:43:16   \n",
       "\n",
       "              start_station_name start_station_id  \\\n",
       "0      San Fernando St at 4th St         SJ-M10-2   \n",
       "1         Jersey St at Castro St           SF-R19   \n",
       "2  The Embarcadero at Sansome St           SF-A27   \n",
       "3         Valencia St at 21st St           SF-P22   \n",
       "4      Russell St at College Ave           BK-H10   \n",
       "\n",
       "                                   end_station_name end_station_id  start_lat  \\\n",
       "0                               2nd St at Julian St         SJ-K10  37.335885   \n",
       "1                            Jersey St at Church St         SF-R20  37.750494   \n",
       "2  Montgomery St BART Station (Market St at 2nd St)       SF-F28-2  37.804770   \n",
       "3                               Folsom St at 5th St         SF-I27  37.756708   \n",
       "4                      Telegraph Ave at Carleton St          BK-F9  37.858473   \n",
       "\n",
       "    start_lng    end_lat     end_lng member_casual  \n",
       "0 -121.885660  37.341132 -121.892844        member  \n",
       "1 -122.433891  37.750882 -122.427622        member  \n",
       "2 -122.403234  37.789620 -122.400808        member  \n",
       "3 -122.421025  37.780738 -122.402728        member  \n",
       "4 -122.253253  37.862320 -122.258801        casual  "
      ]
     },
     "execution_count": 7,
     "metadata": {},
     "output_type": "execute_result"
    }
   ],
   "source": [
    "df.head(5)"
   ]
  },
  {
   "cell_type": "markdown",
   "id": "ffc90963",
   "metadata": {},
   "source": [
    "    from above, our dataset has 13 columns"
   ]
  },
  {
   "cell_type": "code",
   "execution_count": 8,
   "id": "273eb318",
   "metadata": {},
   "outputs": [
    {
     "data": {
      "text/plain": [
       "(222570, 13)"
      ]
     },
     "execution_count": 8,
     "metadata": {},
     "output_type": "execute_result"
    }
   ],
   "source": [
    "# check the size of our dataset\n",
    "df.shape"
   ]
  },
  {
   "cell_type": "markdown",
   "id": "eb024957",
   "metadata": {},
   "source": [
    "Our dataset has 13 columns and 222570 rows"
   ]
  },
  {
   "cell_type": "code",
   "execution_count": 13,
   "id": "6a7f6871",
   "metadata": {},
   "outputs": [
    {
     "data": {
      "text/plain": [
       "['ride_id',\n",
       " 'rideable_type',\n",
       " 'started_at',\n",
       " 'ended_at',\n",
       " 'start_station_name',\n",
       " 'start_station_id',\n",
       " 'end_station_name',\n",
       " 'end_station_id',\n",
       " 'start_lat',\n",
       " 'start_lng',\n",
       " 'end_lat',\n",
       " 'end_lng',\n",
       " 'member_casual']"
      ]
     },
     "execution_count": 13,
     "metadata": {},
     "output_type": "execute_result"
    }
   ],
   "source": [
    "# column names\n",
    "list(df.columns)"
   ]
  },
  {
   "cell_type": "markdown",
   "id": "d6c60f96",
   "metadata": {},
   "source": [
    "\n",
    "The dataset has 13 columns which are listed below<br>\n",
    "rideid(object):Represent number of bike<br>\n",
    "rideable_type(object): type of bike<br>\n",
    "started_at(object): start date and time of ride<br>\n",
    "start station_name(object): name of start station<br>\n",
    "start_station_id(object): representation of start station<br>\n",
    "end_station_name(object): name of end station<br>\n",
    "end_station_id(object): Representation of station in the dataset<br>\n",
    "start_lat(float64): start latitude of ride<br>\n",
    "start_lng(float64): start longitude of ride<br>\n",
    "end_lat(float64): end latitude of ride<br>\n",
    "end_lng(float64): logitude of end_station<br>\n",
    "member casual(object): type of membership<br>"
   ]
  },
  {
   "cell_type": "code",
   "execution_count": 16,
   "id": "a9d24f32",
   "metadata": {},
   "outputs": [
    {
     "data": {
      "text/plain": [
       "ride_id                object\n",
       "rideable_type          object\n",
       "started_at             object\n",
       "ended_at               object\n",
       "start_station_name     object\n",
       "start_station_id       object\n",
       "end_station_name       object\n",
       "end_station_id         object\n",
       "start_lat             float64\n",
       "start_lng             float64\n",
       "end_lat               float64\n",
       "end_lng               float64\n",
       "member_casual          object\n",
       "dtype: object"
      ]
     },
     "execution_count": 16,
     "metadata": {},
     "output_type": "execute_result"
    }
   ],
   "source": [
    "# check data types of different columns in the dataset\n",
    "df.dtypes"
   ]
  },
  {
   "cell_type": "markdown",
   "id": "23acaba6",
   "metadata": {},
   "source": [
    "#### Unique Elements"
   ]
  },
  {
   "cell_type": "code",
   "execution_count": 18,
   "id": "fdec0995",
   "metadata": {},
   "outputs": [
    {
     "data": {
      "text/plain": [
       "ride_id               222570\n",
       "rideable_type              3\n",
       "started_at            207205\n",
       "ended_at              206931\n",
       "start_station_name       467\n",
       "start_station_id         467\n",
       "end_station_name         466\n",
       "end_station_id           466\n",
       "start_lat              74043\n",
       "start_lng              77491\n",
       "end_lat                74663\n",
       "end_lng                78070\n",
       "member_casual              2\n",
       "dtype: int64"
      ]
     },
     "execution_count": 18,
     "metadata": {},
     "output_type": "execute_result"
    }
   ],
   "source": [
    "df.nunique()"
   ]
  },
  {
   "cell_type": "code",
   "execution_count": 20,
   "id": "06f6dec5",
   "metadata": {},
   "outputs": [
    {
     "name": "stdout",
     "output_type": "stream",
     "text": [
      "<class 'pandas.core.frame.DataFrame'>\n",
      "RangeIndex: 222570 entries, 0 to 222569\n",
      "Data columns (total 13 columns):\n",
      " #   Column              Non-Null Count   Dtype  \n",
      "---  ------              --------------   -----  \n",
      " 0   ride_id             222570 non-null  object \n",
      " 1   rideable_type       222570 non-null  object \n",
      " 2   started_at          222570 non-null  object \n",
      " 3   ended_at            222570 non-null  object \n",
      " 4   start_station_name  177656 non-null  object \n",
      " 5   start_station_id    177656 non-null  object \n",
      " 6   end_station_name    172832 non-null  object \n",
      " 7   end_station_id      172832 non-null  object \n",
      " 8   start_lat           222570 non-null  float64\n",
      " 9   start_lng           222570 non-null  float64\n",
      " 10  end_lat             222086 non-null  float64\n",
      " 11  end_lng             222086 non-null  float64\n",
      " 12  member_casual       222570 non-null  object \n",
      "dtypes: float64(4), object(9)\n",
      "memory usage: 22.1+ MB\n"
     ]
    }
   ],
   "source": [
    "# summary of data\n",
    "df.info()"
   ]
  },
  {
   "cell_type": "code",
   "execution_count": 22,
   "id": "c7933149",
   "metadata": {},
   "outputs": [
    {
     "data": {
      "text/html": [
       "<div>\n",
       "<style scoped>\n",
       "    .dataframe tbody tr th:only-of-type {\n",
       "        vertical-align: middle;\n",
       "    }\n",
       "\n",
       "    .dataframe tbody tr th {\n",
       "        vertical-align: top;\n",
       "    }\n",
       "\n",
       "    .dataframe thead th {\n",
       "        text-align: right;\n",
       "    }\n",
       "</style>\n",
       "<table border=\"1\" class=\"dataframe\">\n",
       "  <thead>\n",
       "    <tr style=\"text-align: right;\">\n",
       "      <th></th>\n",
       "      <th>start_lat</th>\n",
       "      <th>start_lng</th>\n",
       "      <th>end_lat</th>\n",
       "      <th>end_lng</th>\n",
       "    </tr>\n",
       "  </thead>\n",
       "  <tbody>\n",
       "    <tr>\n",
       "      <th>count</th>\n",
       "      <td>222570.000000</td>\n",
       "      <td>222570.000000</td>\n",
       "      <td>222086.000000</td>\n",
       "      <td>222086.000000</td>\n",
       "    </tr>\n",
       "    <tr>\n",
       "      <th>mean</th>\n",
       "      <td>37.756389</td>\n",
       "      <td>-122.381636</td>\n",
       "      <td>37.756537</td>\n",
       "      <td>-122.381477</td>\n",
       "    </tr>\n",
       "    <tr>\n",
       "      <th>std</th>\n",
       "      <td>0.103832</td>\n",
       "      <td>0.126024</td>\n",
       "      <td>0.103790</td>\n",
       "      <td>0.125844</td>\n",
       "    </tr>\n",
       "    <tr>\n",
       "      <th>min</th>\n",
       "      <td>37.260000</td>\n",
       "      <td>-122.511280</td>\n",
       "      <td>37.260000</td>\n",
       "      <td>-122.539020</td>\n",
       "    </tr>\n",
       "    <tr>\n",
       "      <th>25%</th>\n",
       "      <td>37.765319</td>\n",
       "      <td>-122.429800</td>\n",
       "      <td>37.765278</td>\n",
       "      <td>-122.429029</td>\n",
       "    </tr>\n",
       "    <tr>\n",
       "      <th>50%</th>\n",
       "      <td>37.776598</td>\n",
       "      <td>-122.411872</td>\n",
       "      <td>37.776609</td>\n",
       "      <td>-122.411622</td>\n",
       "    </tr>\n",
       "    <tr>\n",
       "      <th>75%</th>\n",
       "      <td>37.789655</td>\n",
       "      <td>-122.395292</td>\n",
       "      <td>37.790000</td>\n",
       "      <td>-122.395282</td>\n",
       "    </tr>\n",
       "    <tr>\n",
       "      <th>max</th>\n",
       "      <td>37.880222</td>\n",
       "      <td>-121.810000</td>\n",
       "      <td>37.880222</td>\n",
       "      <td>-121.770000</td>\n",
       "    </tr>\n",
       "  </tbody>\n",
       "</table>\n",
       "</div>"
      ],
      "text/plain": [
       "           start_lat      start_lng        end_lat        end_lng\n",
       "count  222570.000000  222570.000000  222086.000000  222086.000000\n",
       "mean       37.756389    -122.381636      37.756537    -122.381477\n",
       "std         0.103832       0.126024       0.103790       0.125844\n",
       "min        37.260000    -122.511280      37.260000    -122.539020\n",
       "25%        37.765319    -122.429800      37.765278    -122.429029\n",
       "50%        37.776598    -122.411872      37.776609    -122.411622\n",
       "75%        37.789655    -122.395292      37.790000    -122.395282\n",
       "max        37.880222    -121.810000      37.880222    -121.770000"
      ]
     },
     "execution_count": 22,
     "metadata": {},
     "output_type": "execute_result"
    }
   ],
   "source": [
    "# statistics of the columns of float type\n",
    "df.describe()"
   ]
  },
  {
   "cell_type": "markdown",
   "id": "e5a7545d",
   "metadata": {},
   "source": []
  },
  {
   "cell_type": "markdown",
   "id": "af4bf810",
   "metadata": {},
   "source": [
    "#### Missing values"
   ]
  },
  {
   "cell_type": "code",
   "execution_count": 23,
   "id": "e27f8d5b",
   "metadata": {},
   "outputs": [
    {
     "data": {
      "text/plain": [
       "ride_id                   0\n",
       "rideable_type             0\n",
       "started_at                0\n",
       "ended_at                  0\n",
       "start_station_name    44914\n",
       "start_station_id      44914\n",
       "end_station_name      49738\n",
       "end_station_id        49738\n",
       "start_lat                 0\n",
       "start_lng                 0\n",
       "end_lat                 484\n",
       "end_lng                 484\n",
       "member_casual             0\n",
       "dtype: int64"
      ]
     },
     "execution_count": 23,
     "metadata": {},
     "output_type": "execute_result"
    }
   ],
   "source": [
    "# check for missing values\n",
    "df.isnull().sum()"
   ]
  },
  {
   "cell_type": "code",
   "execution_count": 26,
   "id": "d4357c12",
   "metadata": {},
   "outputs": [],
   "source": [
    "# drop start_station_name and id and endstation_name and id\n",
    "df1 = df.dropna()"
   ]
  },
  {
   "cell_type": "markdown",
   "id": "f0733200",
   "metadata": {},
   "source": [
    "since we cannot retrieve the missing values and those values are insignificant compared to the large sample size so we can remove/drop them from the dataset "
   ]
  },
  {
   "cell_type": "code",
   "execution_count": 27,
   "id": "e4dc7958",
   "metadata": {},
   "outputs": [
    {
     "data": {
      "text/plain": [
       "(152187, 13)"
      ]
     },
     "execution_count": 27,
     "metadata": {},
     "output_type": "execute_result"
    }
   ],
   "source": [
    "# check the shape again\n",
    "df1.shape"
   ]
  },
  {
   "cell_type": "markdown",
   "id": "24e40bfa",
   "metadata": {},
   "source": [
    "After dropping the cells with missing values, the number of rows drops to 152187"
   ]
  },
  {
   "cell_type": "code",
   "execution_count": 25,
   "id": "9500fb2d",
   "metadata": {},
   "outputs": [
    {
     "data": {
      "text/plain": [
       "ride_id               0\n",
       "rideable_type         0\n",
       "started_at            0\n",
       "ended_at              0\n",
       "start_station_name    0\n",
       "start_station_id      0\n",
       "end_station_name      0\n",
       "end_station_id        0\n",
       "start_lat             0\n",
       "start_lng             0\n",
       "end_lat               0\n",
       "end_lng               0\n",
       "member_casual         0\n",
       "dtype: int64"
      ]
     },
     "execution_count": 25,
     "metadata": {},
     "output_type": "execute_result"
    }
   ],
   "source": [
    "# recheck the missing values\n",
    "df1.isnull().sum()"
   ]
  },
  {
   "cell_type": "code",
   "execution_count": 28,
   "id": "65c3c854",
   "metadata": {},
   "outputs": [
    {
     "data": {
      "text/html": [
       "<div>\n",
       "<style scoped>\n",
       "    .dataframe tbody tr th:only-of-type {\n",
       "        vertical-align: middle;\n",
       "    }\n",
       "\n",
       "    .dataframe tbody tr th {\n",
       "        vertical-align: top;\n",
       "    }\n",
       "\n",
       "    .dataframe thead th {\n",
       "        text-align: right;\n",
       "    }\n",
       "</style>\n",
       "<table border=\"1\" class=\"dataframe\">\n",
       "  <thead>\n",
       "    <tr style=\"text-align: right;\">\n",
       "      <th></th>\n",
       "      <th>start_lat</th>\n",
       "      <th>start_lng</th>\n",
       "      <th>end_lat</th>\n",
       "      <th>end_lng</th>\n",
       "    </tr>\n",
       "  </thead>\n",
       "  <tbody>\n",
       "    <tr>\n",
       "      <th>count</th>\n",
       "      <td>152187.000000</td>\n",
       "      <td>152187.000000</td>\n",
       "      <td>152187.000000</td>\n",
       "      <td>152187.000000</td>\n",
       "    </tr>\n",
       "    <tr>\n",
       "      <th>mean</th>\n",
       "      <td>37.766078</td>\n",
       "      <td>-122.383831</td>\n",
       "      <td>37.766209</td>\n",
       "      <td>-122.383586</td>\n",
       "    </tr>\n",
       "    <tr>\n",
       "      <th>std</th>\n",
       "      <td>0.087137</td>\n",
       "      <td>0.107265</td>\n",
       "      <td>0.087145</td>\n",
       "      <td>0.107158</td>\n",
       "    </tr>\n",
       "    <tr>\n",
       "      <th>min</th>\n",
       "      <td>37.309001</td>\n",
       "      <td>-122.511280</td>\n",
       "      <td>37.308950</td>\n",
       "      <td>-122.539020</td>\n",
       "    </tr>\n",
       "    <tr>\n",
       "      <th>25%</th>\n",
       "      <td>37.766594</td>\n",
       "      <td>-122.426119</td>\n",
       "      <td>37.766593</td>\n",
       "      <td>-122.423883</td>\n",
       "    </tr>\n",
       "    <tr>\n",
       "      <th>50%</th>\n",
       "      <td>37.776619</td>\n",
       "      <td>-122.410856</td>\n",
       "      <td>37.776620</td>\n",
       "      <td>-122.410122</td>\n",
       "    </tr>\n",
       "    <tr>\n",
       "      <th>75%</th>\n",
       "      <td>37.788765</td>\n",
       "      <td>-122.394586</td>\n",
       "      <td>37.789354</td>\n",
       "      <td>-122.394586</td>\n",
       "    </tr>\n",
       "    <tr>\n",
       "      <th>max</th>\n",
       "      <td>37.880222</td>\n",
       "      <td>-121.863615</td>\n",
       "      <td>37.880222</td>\n",
       "      <td>-121.863613</td>\n",
       "    </tr>\n",
       "  </tbody>\n",
       "</table>\n",
       "</div>"
      ],
      "text/plain": [
       "           start_lat      start_lng        end_lat        end_lng\n",
       "count  152187.000000  152187.000000  152187.000000  152187.000000\n",
       "mean       37.766078    -122.383831      37.766209    -122.383586\n",
       "std         0.087137       0.107265       0.087145       0.107158\n",
       "min        37.309001    -122.511280      37.308950    -122.539020\n",
       "25%        37.766594    -122.426119      37.766593    -122.423883\n",
       "50%        37.776619    -122.410856      37.776620    -122.410122\n",
       "75%        37.788765    -122.394586      37.789354    -122.394586\n",
       "max        37.880222    -121.863615      37.880222    -121.863613"
      ]
     },
     "execution_count": 28,
     "metadata": {},
     "output_type": "execute_result"
    }
   ],
   "source": [
    "# recheck the statistics\n",
    "df1.describe()"
   ]
  },
  {
   "cell_type": "markdown",
   "id": "2d94401d",
   "metadata": {},
   "source": [
    "When we compare the statistics before and after dropping values, there is no significant change in the mean, min and max. \n",
    "Though there is a slight change in the std(standard deviation), changing in all the columns.\n",
    "The count also drops by a bigger margin"
   ]
  },
  {
   "cell_type": "markdown",
   "id": "8dbd78a2",
   "metadata": {},
   "source": [
    "#### Duplicates"
   ]
  },
  {
   "cell_type": "code",
   "execution_count": 30,
   "id": "b1010c7c",
   "metadata": {},
   "outputs": [
    {
     "data": {
      "text/plain": [
       "0         False\n",
       "1         False\n",
       "2         False\n",
       "3         False\n",
       "4         False\n",
       "          ...  \n",
       "217708    False\n",
       "220578    False\n",
       "221962    False\n",
       "222114    False\n",
       "222217    False\n",
       "Length: 152187, dtype: bool"
      ]
     },
     "execution_count": 30,
     "metadata": {},
     "output_type": "execute_result"
    }
   ],
   "source": [
    "# duplicate rows\n",
    "df1.duplicated()"
   ]
  },
  {
   "cell_type": "code",
   "execution_count": 31,
   "id": "ba0189d2",
   "metadata": {},
   "outputs": [
    {
     "data": {
      "text/plain": [
       "0"
      ]
     },
     "execution_count": 31,
     "metadata": {},
     "output_type": "execute_result"
    }
   ],
   "source": [
    "sum(df1.duplicated())"
   ]
  },
  {
   "cell_type": "markdown",
   "id": "b06593c3",
   "metadata": {},
   "source": [
    "Clearly, there are no duplicate values in our data"
   ]
  },
  {
   "cell_type": "markdown",
   "id": "4670c3e0",
   "metadata": {},
   "source": [
    "## Data Cleaning"
   ]
  },
  {
   "cell_type": "code",
   "execution_count": 118,
   "id": "aeca2b3d",
   "metadata": {},
   "outputs": [
    {
     "data": {
      "text/plain": [
       "Index(['rideable_type', 'started_at', 'ended_at', 'start_station_name',\n",
       "       'end_station_name', 'start_lat', 'start_lng', 'end_lat', 'end_lng',\n",
       "       'member_casual'],\n",
       "      dtype='object')"
      ]
     },
     "execution_count": 118,
     "metadata": {},
     "output_type": "execute_result"
    }
   ],
   "source": [
    "df1.columns"
   ]
  },
  {
   "cell_type": "code",
   "execution_count": null,
   "id": "b02dd855",
   "metadata": {},
   "outputs": [],
   "source": [
    "df1 = df1.drop(columns=['ride_id', 'start_station_id','end_station_id'])"
   ]
  },
  {
   "cell_type": "code",
   "execution_count": 119,
   "id": "1058d6b8",
   "metadata": {},
   "outputs": [
    {
     "data": {
      "text/plain": [
       "Index(['rideable_type', 'started_at', 'ended_at', 'start_station_name',\n",
       "       'end_station_name', 'start_lat', 'start_lng', 'end_lat', 'end_lng',\n",
       "       'member_casual'],\n",
       "      dtype='object')"
      ]
     },
     "execution_count": 119,
     "metadata": {},
     "output_type": "execute_result"
    }
   ],
   "source": [
    "df1.columns"
   ]
  },
  {
   "cell_type": "markdown",
   "id": "84c99ca6",
   "metadata": {},
   "source": [
    "i have deleted the following columns `[\"ride_id\", \"start_station_id\", \"end_station_id\"]` because i don't think i will need them in my analysis"
   ]
  },
  {
   "cell_type": "markdown",
   "id": "6cc4781b",
   "metadata": {},
   "source": [
    "## Exploratory data Analysis"
   ]
  },
  {
   "cell_type": "markdown",
   "id": "d215ff52",
   "metadata": {},
   "source": [
    "### Research Question 1: Which station is busiest in terms of where most rides begun and ended. Which bikes are most taken."
   ]
  },
  {
   "cell_type": "code",
   "execution_count": 33,
   "id": "99c9127e",
   "metadata": {},
   "outputs": [
    {
     "data": {
      "text/plain": [
       "Market St at 10th St                              2293\n",
       "Powell St BART Station (Market St at 4th St)      1741\n",
       "Powell St BART Station (Market St at 5th St)      1662\n",
       "Market St at Steuart St                           1600\n",
       "San Francisco Caltrain (Townsend St at 4th St)    1466\n",
       "                                                  ... \n",
       "SF Depot-2 (Minnesota St Outbound)                   3\n",
       "Foothill Blvd at Harrington Ave                      2\n",
       "Minnesota St Depot                                   2\n",
       "Bond St at High St                                   2\n",
       "26th Ave at International Blvd                       1\n",
       "Name: start_station_name, Length: 466, dtype: int64"
      ]
     },
     "execution_count": 33,
     "metadata": {},
     "output_type": "execute_result"
    }
   ],
   "source": [
    "# station where most rides started the journey\n",
    "df1['start_station_name'].value_counts()"
   ]
  },
  {
   "cell_type": "code",
   "execution_count": 34,
   "id": "a94757e4",
   "metadata": {},
   "outputs": [
    {
     "data": {
      "text/plain": [
       "Market St at 10th St                            2211\n",
       "Powell St BART Station (Market St at 4th St)    1924\n",
       "Powell St BART Station (Market St at 5th St)    1740\n",
       "Market St at Steuart St                         1668\n",
       "17th St at Valencia St                          1625\n",
       "                                                ... \n",
       "San Antonio Park                                   5\n",
       "Bond St at High St                                 3\n",
       "Minnesota St Depot                                 3\n",
       "26th Ave at International Blvd                     1\n",
       "SF Depot-2 (Minnesota St Outbound)                 1\n",
       "Name: end_station_name, Length: 466, dtype: int64"
      ]
     },
     "execution_count": 34,
     "metadata": {},
     "output_type": "execute_result"
    }
   ],
   "source": [
    "# station where most rides ended the journey\n",
    "df1['end_station_name'].value_counts()"
   ]
  },
  {
   "cell_type": "markdown",
   "id": "245760ca",
   "metadata": {},
   "source": [
    "From the above cells, Market St at 10th St stands out as the station where most rides started and where most rides ended"
   ]
  },
  {
   "cell_type": "markdown",
   "id": "22cd60f8",
   "metadata": {},
   "source": [
    "#### Bikes"
   ]
  },
  {
   "cell_type": "code",
   "execution_count": 45,
   "id": "4f039ab6",
   "metadata": {},
   "outputs": [
    {
     "data": {
      "text/plain": [
       "classic_bike     76415\n",
       "electric_bike    74174\n",
       "docked_bike       1598\n",
       "Name: rideable_type, dtype: int64"
      ]
     },
     "execution_count": 45,
     "metadata": {},
     "output_type": "execute_result"
    }
   ],
   "source": [
    "df1['rideable_type'].value_counts()"
   ]
  },
  {
   "cell_type": "code",
   "execution_count": 48,
   "id": "d0f49b2f",
   "metadata": {},
   "outputs": [
    {
     "data": {
      "image/png": "[encoded data removed]",
      "text/plain": [
       "<Figure size 720x720 with 1 Axes>"
      ]
     },
     "metadata": {
      "needs_background": "light"
     },
     "output_type": "display_data"
    }
   ],
   "source": [
    "labelcount = df1['rideable_type'].value_counts()\n",
    "\n",
    "plt.figure(figsize=(10, 10))\n",
    "plt.subplot(221)\n",
    "ax = sns.barplot(x=labelcount.index, y=labelcount.values)\n",
    "ax.set_ylabel('count')\n",
    "ax.patches[0].set_color('red')\n",
    "ax.patches[1].set_color('green')\n",
    "ax.patches[2].set_color('blue')"
   ]
  },
  {
   "cell_type": "markdown",
   "id": "2e401ea9",
   "metadata": {},
   "source": [
    "From the plot, the number of classic and electic bikes are way higher than the docked bikes"
   ]
  },
  {
   "cell_type": "markdown",
   "id": "c90e68f3",
   "metadata": {},
   "source": []
  },
  {
   "cell_type": "markdown",
   "id": "23031cb8",
   "metadata": {},
   "source": [
    "### Research Question 2: What is the distribution of stations in the locality."
   ]
  },
  {
   "cell_type": "code",
   "execution_count": 50,
   "id": "b89ea312",
   "metadata": {},
   "outputs": [
    {
     "data": {
      "image/png": "[encoded data removed]",
      "text/plain": [
       "<Figure size 720x720 with 4 Axes>"
      ]
     },
     "metadata": {
      "needs_background": "light"
     },
     "output_type": "display_data"
    }
   ],
   "source": [
    "df1.hist(figsize=(10,10), color='green');"
   ]
  },
  {
   "cell_type": "markdown",
   "id": "c678f42a",
   "metadata": {},
   "source": [
    "One of the interesting outcomes from the graph is that <strong>\"the majority of the stations are in close proximity ( in the same area) with only few stations in far places\""
   ]
  },
  {
   "cell_type": "markdown",
   "id": "99ebb4c4",
   "metadata": {},
   "source": []
  },
  {
   "cell_type": "markdown",
   "id": "ee4bae6f",
   "metadata": {},
   "source": [
    "### Research Question 3: What is the relationship between bikes, membership (member/casual) and the start stations."
   ]
  },
  {
   "cell_type": "code",
   "execution_count": 52,
   "id": "dfb45918",
   "metadata": {},
   "outputs": [],
   "source": [
    "# drop columns that won't be used on the analysis\n",
    "df1 = df1.drop(columns=['ride_id','start_station_id','end_station_id'])"
   ]
  },
  {
   "cell_type": "code",
   "execution_count": 58,
   "id": "cc3fa317",
   "metadata": {},
   "outputs": [
    {
     "data": {
      "text/plain": [
       "member    81783\n",
       "casual    70404\n",
       "Name: member_casual, dtype: int64"
      ]
     },
     "execution_count": 58,
     "metadata": {},
     "output_type": "execute_result"
    }
   ],
   "source": [
    "df1['member_casual'].value_counts()"
   ]
  },
  {
   "cell_type": "code",
   "execution_count": 99,
   "id": "8542cfda",
   "metadata": {},
   "outputs": [
    {
     "data": {
      "image/png": "[encoded data removed]",
      "text/plain": [
       "<Figure size 432x432 with 1 Axes>"
      ]
     },
     "metadata": {
      "needs_background": "light"
     },
     "output_type": "display_data"
    }
   ],
   "source": [
    "member = df1['member_casual'].value_counts()\n",
    "plt.figure(figsize=(6, 6))\n",
    "plt.subplot(221)\n",
    "ax = sns.barplot(x=member.index, y=member.values);\n",
    "ax.set_ylabel(\"count\");"
   ]
  },
  {
   "cell_type": "markdown",
   "id": "7eb37397",
   "metadata": {},
   "source": [
    "#### What is the count of electric bikes that are members or casual"
   ]
  },
  {
   "cell_type": "code",
   "execution_count": 56,
   "id": "e3d45675",
   "metadata": {},
   "outputs": [
    {
     "name": "stdout",
     "output_type": "stream",
     "text": [
      "member    39346\n",
      "casual    34828\n",
      "Name: member_casual, dtype: int64\n"
     ]
    },
    {
     "data": {
      "image/png": "[encoded data removed]",
      "text/plain": [
       "<Figure size 1008x72 with 1 Axes>"
      ]
     },
     "metadata": {
      "needs_background": "light"
     },
     "output_type": "display_data"
    }
   ],
   "source": [
    "electric = df1[df1['rideable_type']=='electric_bike']\n",
    "ele_count = electric['member_casual'].value_counts()\n",
    "ele_count.plot(x='genres', kind='barh', figsize=(14, 1))\n",
    "plt.xlabel('count')\n",
    "print(ele_count)"
   ]
  },
  {
   "cell_type": "markdown",
   "id": "b5dc8a10",
   "metadata": {},
   "source": [
    "#### What is the count of classic bikes that are members or casual"
   ]
  },
  {
   "cell_type": "code",
   "execution_count": 57,
   "id": "84a47f58",
   "metadata": {},
   "outputs": [
    {
     "name": "stdout",
     "output_type": "stream",
     "text": [
      "member    42437\n",
      "casual    33978\n",
      "Name: member_casual, dtype: int64\n"
     ]
    },
    {
     "data": {
      "image/png": "[encoded data removed]",
      "text/plain": [
       "<Figure size 1008x72 with 1 Axes>"
      ]
     },
     "metadata": {
      "needs_background": "light"
     },
     "output_type": "display_data"
    }
   ],
   "source": [
    "classic = df1[df1['rideable_type']=='classic_bike']\n",
    "classic_count = classic['member_casual'].value_counts()\n",
    "classic_count.plot(x='genres', kind='barh', figsize=(14, 1), title=\"classic bikes' member or casual\")\n",
    "plt.xlabel('count')\n",
    "print(classic_count)"
   ]
  },
  {
   "cell_type": "markdown",
   "id": "9c523423",
   "metadata": {},
   "source": [
    "#### What is the count of docked bikes that are members or casual"
   ]
  },
  {
   "cell_type": "code",
   "execution_count": 100,
   "id": "debe30ca",
   "metadata": {},
   "outputs": [
    {
     "name": "stdout",
     "output_type": "stream",
     "text": [
      "casual    1598\n",
      "Name: member_casual, dtype: int64\n"
     ]
    },
    {
     "data": {
      "image/png": "[encoded data removed]",
      "text/plain": [
       "<Figure size 1080x288 with 1 Axes>"
      ]
     },
     "metadata": {
      "needs_background": "light"
     },
     "output_type": "display_data"
    }
   ],
   "source": [
    "docked = df1[df1['rideable_type']=='docked_bike']\n",
    "print(docked['member_casual'].value_counts())\n",
    "dock_count = docked['start_station_name'].value_counts().head(9)\n",
    "dock_count.plot(x='count', kind='barh', figsize=(15, 4), title=\"docked bikes' start stations\")\n",
    "plt.xlabel('count');"
   ]
  },
  {
   "cell_type": "markdown",
   "id": "991f74a7",
   "metadata": {},
   "source": [
    "from the above analysis, interesting outcomes can be got:\n",
    "+ all docked bikes are/belong to casual\n",
    "+ most docked bikes start at Cruise Terminal"
   ]
  },
  {
   "cell_type": "markdown",
   "id": "46fc65d9",
   "metadata": {},
   "source": []
  },
  {
   "cell_type": "markdown",
   "id": "69576b50",
   "metadata": {},
   "source": [
    "### Research Question 4:  How busy are the week days in relation to where the rides started. Which hour of the day seems most occupied."
   ]
  },
  {
   "cell_type": "code",
   "execution_count": 73,
   "id": "90008034",
   "metadata": {},
   "outputs": [
    {
     "data": {
      "text/html": [
       "<div>\n",
       "<style scoped>\n",
       "    .dataframe tbody tr th:only-of-type {\n",
       "        vertical-align: middle;\n",
       "    }\n",
       "\n",
       "    .dataframe tbody tr th {\n",
       "        vertical-align: top;\n",
       "    }\n",
       "\n",
       "    .dataframe thead th {\n",
       "        text-align: right;\n",
       "    }\n",
       "</style>\n",
       "<table border=\"1\" class=\"dataframe\">\n",
       "  <thead>\n",
       "    <tr style=\"text-align: right;\">\n",
       "      <th></th>\n",
       "      <th>started_at</th>\n",
       "    </tr>\n",
       "  </thead>\n",
       "  <tbody>\n",
       "    <tr>\n",
       "      <th>0</th>\n",
       "      <td>2021-10-20 13:27:56</td>\n",
       "    </tr>\n",
       "    <tr>\n",
       "      <th>1</th>\n",
       "      <td>2021-10-15 13:16:01</td>\n",
       "    </tr>\n",
       "    <tr>\n",
       "      <th>2</th>\n",
       "      <td>2021-10-13 12:12:46</td>\n",
       "    </tr>\n",
       "    <tr>\n",
       "      <th>3</th>\n",
       "      <td>2021-10-13 17:45:55</td>\n",
       "    </tr>\n",
       "    <tr>\n",
       "      <th>4</th>\n",
       "      <td>2021-10-18 15:09:26</td>\n",
       "    </tr>\n",
       "    <tr>\n",
       "      <th>...</th>\n",
       "      <td>...</td>\n",
       "    </tr>\n",
       "    <tr>\n",
       "      <th>217708</th>\n",
       "      <td>2021-10-24 21:13:27</td>\n",
       "    </tr>\n",
       "    <tr>\n",
       "      <th>220578</th>\n",
       "      <td>2021-10-05 14:24:36</td>\n",
       "    </tr>\n",
       "    <tr>\n",
       "      <th>221962</th>\n",
       "      <td>2021-10-20 14:47:34</td>\n",
       "    </tr>\n",
       "    <tr>\n",
       "      <th>222114</th>\n",
       "      <td>2021-10-22 17:05:59</td>\n",
       "    </tr>\n",
       "    <tr>\n",
       "      <th>222217</th>\n",
       "      <td>2021-10-02 18:38:01</td>\n",
       "    </tr>\n",
       "  </tbody>\n",
       "</table>\n",
       "<p>152187 rows × 1 columns</p>\n",
       "</div>"
      ],
      "text/plain": [
       "                 started_at\n",
       "0       2021-10-20 13:27:56\n",
       "1       2021-10-15 13:16:01\n",
       "2       2021-10-13 12:12:46\n",
       "3       2021-10-13 17:45:55\n",
       "4       2021-10-18 15:09:26\n",
       "...                     ...\n",
       "217708  2021-10-24 21:13:27\n",
       "220578  2021-10-05 14:24:36\n",
       "221962  2021-10-20 14:47:34\n",
       "222114  2021-10-22 17:05:59\n",
       "222217  2021-10-02 18:38:01\n",
       "\n",
       "[152187 rows x 1 columns]"
      ]
     },
     "execution_count": 73,
     "metadata": {},
     "output_type": "execute_result"
    }
   ],
   "source": [
    "# extract started_at columns\n",
    "dftime = df1[['started_at']]\n",
    "dftime"
   ]
  },
  {
   "cell_type": "code",
   "execution_count": 74,
   "id": "4ca9afcf",
   "metadata": {},
   "outputs": [],
   "source": [
    "# convert \"started_at\" column from object type to datetime type column\n",
    "time_column = 'started_at'\n",
    "dftime[time_column] = pd.to_datetime(dftime[time_column])"
   ]
  },
  {
   "cell_type": "markdown",
   "id": "67c146a5",
   "metadata": {},
   "source": [
    "Above::   converted \"started_at\" column to datetime type column"
   ]
  },
  {
   "cell_type": "code",
   "execution_count": 75,
   "id": "e80db4f1",
   "metadata": {},
   "outputs": [],
   "source": [
    "# get the week day\n",
    "dftime['Weekday'] = dftime['started_at'].dt.weekday"
   ]
  },
  {
   "cell_type": "code",
   "execution_count": 77,
   "id": "ca239e0b",
   "metadata": {},
   "outputs": [
    {
     "data": {
      "text/html": [
       "<div>\n",
       "<style scoped>\n",
       "    .dataframe tbody tr th:only-of-type {\n",
       "        vertical-align: middle;\n",
       "    }\n",
       "\n",
       "    .dataframe tbody tr th {\n",
       "        vertical-align: top;\n",
       "    }\n",
       "\n",
       "    .dataframe thead th {\n",
       "        text-align: right;\n",
       "    }\n",
       "</style>\n",
       "<table border=\"1\" class=\"dataframe\">\n",
       "  <thead>\n",
       "    <tr style=\"text-align: right;\">\n",
       "      <th></th>\n",
       "      <th>started_at</th>\n",
       "      <th>Weekday</th>\n",
       "    </tr>\n",
       "  </thead>\n",
       "  <tbody>\n",
       "    <tr>\n",
       "      <th>0</th>\n",
       "      <td>2021-10-20 13:27:56</td>\n",
       "      <td>2</td>\n",
       "    </tr>\n",
       "    <tr>\n",
       "      <th>1</th>\n",
       "      <td>2021-10-15 13:16:01</td>\n",
       "      <td>4</td>\n",
       "    </tr>\n",
       "    <tr>\n",
       "      <th>2</th>\n",
       "      <td>2021-10-13 12:12:46</td>\n",
       "      <td>2</td>\n",
       "    </tr>\n",
       "    <tr>\n",
       "      <th>3</th>\n",
       "      <td>2021-10-13 17:45:55</td>\n",
       "      <td>2</td>\n",
       "    </tr>\n",
       "    <tr>\n",
       "      <th>4</th>\n",
       "      <td>2021-10-18 15:09:26</td>\n",
       "      <td>0</td>\n",
       "    </tr>\n",
       "    <tr>\n",
       "      <th>...</th>\n",
       "      <td>...</td>\n",
       "      <td>...</td>\n",
       "    </tr>\n",
       "    <tr>\n",
       "      <th>217708</th>\n",
       "      <td>2021-10-24 21:13:27</td>\n",
       "      <td>6</td>\n",
       "    </tr>\n",
       "    <tr>\n",
       "      <th>220578</th>\n",
       "      <td>2021-10-05 14:24:36</td>\n",
       "      <td>1</td>\n",
       "    </tr>\n",
       "    <tr>\n",
       "      <th>221962</th>\n",
       "      <td>2021-10-20 14:47:34</td>\n",
       "      <td>2</td>\n",
       "    </tr>\n",
       "    <tr>\n",
       "      <th>222114</th>\n",
       "      <td>2021-10-22 17:05:59</td>\n",
       "      <td>4</td>\n",
       "    </tr>\n",
       "    <tr>\n",
       "      <th>222217</th>\n",
       "      <td>2021-10-02 18:38:01</td>\n",
       "      <td>5</td>\n",
       "    </tr>\n",
       "  </tbody>\n",
       "</table>\n",
       "<p>152187 rows × 2 columns</p>\n",
       "</div>"
      ],
      "text/plain": [
       "                started_at  Weekday\n",
       "0      2021-10-20 13:27:56        2\n",
       "1      2021-10-15 13:16:01        4\n",
       "2      2021-10-13 12:12:46        2\n",
       "3      2021-10-13 17:45:55        2\n",
       "4      2021-10-18 15:09:26        0\n",
       "...                    ...      ...\n",
       "217708 2021-10-24 21:13:27        6\n",
       "220578 2021-10-05 14:24:36        1\n",
       "221962 2021-10-20 14:47:34        2\n",
       "222114 2021-10-22 17:05:59        4\n",
       "222217 2021-10-02 18:38:01        5\n",
       "\n",
       "[152187 rows x 2 columns]"
      ]
     },
     "execution_count": 77,
     "metadata": {},
     "output_type": "execute_result"
    }
   ],
   "source": [
    "dftime"
   ]
  },
  {
   "cell_type": "code",
   "execution_count": 106,
   "id": "1c77d371",
   "metadata": {},
   "outputs": [
    {
     "data": {
      "text/plain": [
       "4    29357\n",
       "5    29272\n",
       "6    20762\n",
       "3    20037\n",
       "1    18647\n",
       "2    17588\n",
       "0    16524\n",
       "Name: Weekday, dtype: int64"
      ]
     },
     "execution_count": 106,
     "metadata": {},
     "output_type": "execute_result"
    }
   ],
   "source": [
    "count = dftime['Weekday'].value_counts()\n",
    "count"
   ]
  },
  {
   "cell_type": "markdown",
   "id": "03f388cf",
   "metadata": {},
   "source": [
    "##### WeekDay plot"
   ]
  },
  {
   "cell_type": "code",
   "execution_count": 108,
   "id": "76dd7266",
   "metadata": {},
   "outputs": [
    {
     "data": {
      "image/png": "[encoded data removed]",
      "text/plain": [
       "<Figure size 576x576 with 1 Axes>"
      ]
     },
     "metadata": {
      "needs_background": "light"
     },
     "output_type": "display_data"
    }
   ],
   "source": [
    "plt.figure(figsize=(8, 8))\n",
    "plt.subplot(221)\n",
    "ax = sns.barplot(x=count.index, y=count.values)\n",
    "ax.set_xlabel('days of the week')\n",
    "ax.set_ylabel('count');"
   ]
  },
  {
   "cell_type": "markdown",
   "id": "db8c8b3c",
   "metadata": {},
   "source": [
    "Majority of the trips are taken on Thursday(4) and Friday(5)."
   ]
  },
  {
   "cell_type": "markdown",
   "id": "2ca4c5b0",
   "metadata": {},
   "source": [
    "##### Hour plot"
   ]
  },
  {
   "cell_type": "code",
   "execution_count": 109,
   "id": "004c17c5",
   "metadata": {},
   "outputs": [
    {
     "data": {
      "image/png": "[encoded data removed]",
      "text/plain": [
       "<Figure size 1152x864 with 1 Axes>"
      ]
     },
     "metadata": {
      "needs_background": "light"
     },
     "output_type": "display_data"
    }
   ],
   "source": [
    "dftime['Hour'] = dftime['started_at'].dt.hour\n",
    "\n",
    "count_ = dftime['Hour'].value_counts()\n",
    "plt.figure(figsize=(16, 12))\n",
    "plt.subplot(221)\n",
    "ax = sns.barplot(x=count_.index, y=count_.values, color='g')\n",
    "ax.set_xlabel('hour')\n",
    "ax.set_ylabel('count');"
   ]
  },
  {
   "cell_type": "markdown",
   "id": "4b8a9ef1",
   "metadata": {},
   "source": [
    "It is clear from the above plot that the peaks are observed at 5PM & 6PM implying that majority of the rides are taken in the afternoons while the least trips occur between midnight and 6 in the morning"
   ]
  },
  {
   "cell_type": "code",
   "execution_count": 90,
   "id": "7c79d43b",
   "metadata": {},
   "outputs": [
    {
     "data": {
      "text/html": [
       "<div>\n",
       "<style scoped>\n",
       "    .dataframe tbody tr th:only-of-type {\n",
       "        vertical-align: middle;\n",
       "    }\n",
       "\n",
       "    .dataframe tbody tr th {\n",
       "        vertical-align: top;\n",
       "    }\n",
       "\n",
       "    .dataframe thead th {\n",
       "        text-align: right;\n",
       "    }\n",
       "</style>\n",
       "<table border=\"1\" class=\"dataframe\">\n",
       "  <thead>\n",
       "    <tr style=\"text-align: right;\">\n",
       "      <th></th>\n",
       "      <th>started_at</th>\n",
       "      <th>Weekday</th>\n",
       "      <th>Hour</th>\n",
       "    </tr>\n",
       "  </thead>\n",
       "  <tbody>\n",
       "    <tr>\n",
       "      <th>0</th>\n",
       "      <td>2021-10-20 13:27:56</td>\n",
       "      <td>2</td>\n",
       "      <td>13</td>\n",
       "    </tr>\n",
       "    <tr>\n",
       "      <th>1</th>\n",
       "      <td>2021-10-15 13:16:01</td>\n",
       "      <td>4</td>\n",
       "      <td>13</td>\n",
       "    </tr>\n",
       "    <tr>\n",
       "      <th>2</th>\n",
       "      <td>2021-10-13 12:12:46</td>\n",
       "      <td>2</td>\n",
       "      <td>12</td>\n",
       "    </tr>\n",
       "    <tr>\n",
       "      <th>3</th>\n",
       "      <td>2021-10-13 17:45:55</td>\n",
       "      <td>2</td>\n",
       "      <td>17</td>\n",
       "    </tr>\n",
       "    <tr>\n",
       "      <th>4</th>\n",
       "      <td>2021-10-18 15:09:26</td>\n",
       "      <td>0</td>\n",
       "      <td>15</td>\n",
       "    </tr>\n",
       "  </tbody>\n",
       "</table>\n",
       "</div>"
      ],
      "text/plain": [
       "           started_at  Weekday  Hour\n",
       "0 2021-10-20 13:27:56        2    13\n",
       "1 2021-10-15 13:16:01        4    13\n",
       "2 2021-10-13 12:12:46        2    12\n",
       "3 2021-10-13 17:45:55        2    17\n",
       "4 2021-10-18 15:09:26        0    15"
      ]
     },
     "execution_count": 90,
     "metadata": {},
     "output_type": "execute_result"
    }
   ],
   "source": [
    "dftime.head(5)"
   ]
  },
  {
   "cell_type": "markdown",
   "id": "f3d6d427",
   "metadata": {},
   "source": [
    "## Correlations between features of the data"
   ]
  },
  {
   "cell_type": "markdown",
   "id": "1a5da16b",
   "metadata": {},
   "source": [
    "Are there relations between features like weekday, hour, latitude and logitude "
   ]
  },
  {
   "cell_type": "code",
   "execution_count": 92,
   "id": "c1a50cee",
   "metadata": {},
   "outputs": [],
   "source": [
    "df2 = df1[['started_at','ended_at','start_lat','start_lng','end_lat','end_lng']]\n",
    "\n",
    "df2['started_at'] = pd.to_datetime(df2['started_at'])\n",
    "df2['ended_at'] = pd.to_datetime(df2['ended_at'])\n",
    "df2['start_day'] = df2['started_at'].dt.weekday\n",
    "df2['start_hour'] = df2['started_at'].dt.hour\n",
    "df2['end_day'] = df2['ended_at'].dt.weekday\n",
    "df2['end_hour'] = df2['ended_at'].dt.hour"
   ]
  },
  {
   "cell_type": "code",
   "execution_count": 96,
   "id": "b35e4e81",
   "metadata": {},
   "outputs": [
    {
     "data": {
      "image/png": "[encoded data removed]",
      "text/plain": [
       "<Figure size 576x432 with 2 Axes>"
      ]
     },
     "metadata": {
      "needs_background": "light"
     },
     "output_type": "display_data"
    }
   ],
   "source": [
    "# pairwise correlation between features\n",
    "features = ['start_day','start_hour','start_lat','start_lng','end_lat','end_lng','end_day','end_hour']\n",
    "\n",
    "# correlation plot\n",
    "plt.figure(figsize=[8,6])\n",
    "sns.heatmap(df2[features].corr(), annot=True, fmt='.2f',cmap='vlag_r', center=0 )\n",
    "plt.show()"
   ]
  },
  {
   "cell_type": "markdown",
   "id": "3d42d280",
   "metadata": {},
   "source": [
    "The correlation coefficients indicate that start day and end day have very weak positive and negative \n",
    "correlations with the pairs of variables: start lat, end lat, start lng, end lng.\n",
    "\n",
    "There is a high correlation between start hour and end hour implying a stronger relationship. This can\n",
    "further imply that most trips didn't exceed an hour."
   ]
  },
  {
   "cell_type": "markdown",
   "id": "81f231d4",
   "metadata": {},
   "source": [
    "##### We can further investigate the relationship between start and end hour"
   ]
  },
  {
   "cell_type": "code",
   "execution_count": 97,
   "id": "2c40e7fa",
   "metadata": {},
   "outputs": [
    {
     "data": {
      "text/plain": [
       "<Figure size 576x576 with 0 Axes>"
      ]
     },
     "metadata": {},
     "output_type": "display_data"
    },
    {
     "data": {
      "image/png": "[encoded data removed]",
      "text/plain": [
       "<Figure size 864x576 with 6 Axes>"
      ]
     },
     "metadata": {
      "needs_background": "light"
     },
     "output_type": "display_data"
    }
   ],
   "source": [
    "# plot matrix: sample 500 records so that plots are clearer and they render faster\n",
    "key_features = ['start_hour','end_hour']\n",
    "df2_sample = df2.sample(500, replace=False)\n",
    "plt.figure(figsize=[8,8])\n",
    "p = sns.PairGrid(data=df2_sample, vars = key_features, size=4, aspect=1.5)\n",
    "p.map_offdiag(plt.scatter)\n",
    "p.map_diag(plt.hist, bins=20)\n",
    "plt.show()"
   ]
  },
  {
   "cell_type": "markdown",
   "id": "a179e864",
   "metadata": {},
   "source": [
    "This can further signify that almost all trips did not exceed an hour's ride"
   ]
  },
  {
   "cell_type": "markdown",
   "id": "2539ee64",
   "metadata": {},
   "source": [
    "## Conclusions"
   ]
  },
  {
   "cell_type": "markdown",
   "id": "479b199a",
   "metadata": {},
   "source": [
    "1. Data wrangling\n",
    "\n",
    "The dataset had 222570 rows and 13 columns, but I don't think I needed all of them for my analysis. I had some missing values which I deleted. I had to visualize the statistics summary of my data, and I got a better idea of the questions I could ask myself.\n",
    "\n",
    "I then asked myself these questions after Data Wrangling\n",
    "+ Which station is busiest in terms of where most rides begun and ended. Which bikes are most taken.\n",
    "+ What is the distribution of stations in the locality.\n",
    "+ What is the relationship between bikes, membership (member/casual) and the start stations.\n",
    "+ How busy are the week days in relation to where the rides started. Which hour of the day seems most occupied.\n",
    "\n",
    "2. Data Cleaning\n",
    "\n",
    "I deleted the columns that i thought weren't necessary for my analysis like ride_id , start_station_id and end_station_id. The data was 10 columns and 152187 rows.\n",
    "\n",
    "\n",
    "3. EDA\n",
    "\n",
    "The process of EDA was to help me answer the questions I asked myself after data wrangling. \n",
    "\n",
    "I took mainly the following steps while answering my questions.\n",
    "+ extract relevant information to answer my questions.\n",
    "+ Visualize how my target attribute behaves concerning other features.\n",
    "\n",
    "Following are some insights extracted after analysis.\n",
    "#### Research Question 2: What is the distribution of stations in the locality.\n",
    "+ One of the interesting outcomes is that the majority of the stations are in close proximity since they lie within the same latitude and logitude, with only few stations in far places\n",
    "\n",
    "\n",
    "#### Research Question 4: How busy are the week days in relation to where the rides started. Which hour of the day seems most occupied.\n",
    "+ Majority of the trips are taken on Thursday(4) and Friday(5).\n",
    "+ Majority of the rides are taken in the afternoons around 5pm and 6pm while the least trips occur between midnight and 6 in the morning\n"
   ]
  }
 ],
 "metadata": {
  "kernelspec": {
   "display_name": "Python 3 (ipykernel)",
   "language": "python",
   "name": "python3"
  },
  "language_info": {
   "codemirror_mode": {
    "name": "ipython",
    "version": 3
   },
   "file_extension": ".py",
   "mimetype": "text/x-python",
   "name": "python",
   "nbconvert_exporter": "python",
   "pygments_lexer": "ipython3",
   "version": "3.9.7"
  }
 },
 "nbformat": 4,
 "nbformat_minor": 5
}
